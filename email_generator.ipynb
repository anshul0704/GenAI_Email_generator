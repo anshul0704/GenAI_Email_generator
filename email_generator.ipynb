{
 "cells": [
  {
   "cell_type": "code",
   "execution_count": 5,
   "metadata": {},
   "outputs": [
    {
     "name": "stdout",
     "output_type": "stream",
     "text": [
      "Defaulting to user installation because normal site-packages is not writeable\n",
      "Collecting langchain\n",
      "  Downloading langchain-0.3.27-py3-none-any.whl (1.0 MB)\n",
      "\u001b[K     |████████████████████████████████| 1.0 MB 2.7 MB/s eta 0:00:01\n",
      "\u001b[?25hCollecting SQLAlchemy<3,>=1.4\n",
      "  Downloading sqlalchemy-2.0.43-cp39-cp39-macosx_11_0_arm64.whl (2.1 MB)\n",
      "\u001b[K     |████████████████████████████████| 2.1 MB 5.4 MB/s eta 0:00:01\n",
      "\u001b[?25hCollecting langchain-text-splitters<1.0.0,>=0.3.9\n",
      "  Downloading langchain_text_splitters-0.3.11-py3-none-any.whl (33 kB)\n",
      "Requirement already satisfied: PyYAML>=5.3 in /Users/anshulverma/Library/Python/3.9/lib/python/site-packages (from langchain) (6.0.2)\n",
      "Requirement already satisfied: requests<3,>=2 in /Users/anshulverma/Library/Python/3.9/lib/python/site-packages (from langchain) (2.32.5)\n",
      "Collecting langsmith>=0.1.17\n",
      "  Downloading langsmith-0.4.27-py3-none-any.whl (384 kB)\n",
      "\u001b[K     |████████████████████████████████| 384 kB 4.7 MB/s eta 0:00:01\n",
      "\u001b[?25hCollecting async-timeout<5.0.0,>=4.0.0\n",
      "  Downloading async_timeout-4.0.3-py3-none-any.whl (5.7 kB)\n",
      "Collecting pydantic<3.0.0,>=2.7.4\n",
      "  Downloading pydantic-2.11.8-py3-none-any.whl (444 kB)\n",
      "\u001b[K     |████████████████████████████████| 444 kB 5.4 MB/s eta 0:00:01\n",
      "\u001b[?25hCollecting langchain-core<1.0.0,>=0.3.72\n",
      "  Downloading langchain_core-0.3.76-py3-none-any.whl (447 kB)\n",
      "\u001b[K     |████████████████████████████████| 447 kB 4.9 MB/s eta 0:00:01\n",
      "\u001b[?25hCollecting jsonpatch<2.0,>=1.33\n",
      "  Using cached jsonpatch-1.33-py2.py3-none-any.whl (12 kB)\n",
      "Requirement already satisfied: typing-extensions>=4.7 in /Users/anshulverma/Library/Python/3.9/lib/python/site-packages (from langchain-core<1.0.0,>=0.3.72->langchain) (4.12.2)\n",
      "Requirement already satisfied: packaging>=23.2 in /Users/anshulverma/Library/Python/3.9/lib/python/site-packages (from langchain-core<1.0.0,>=0.3.72->langchain) (24.1)\n",
      "Collecting tenacity!=8.4.0,<10.0.0,>=8.1.0\n",
      "  Using cached tenacity-9.1.2-py3-none-any.whl (28 kB)\n",
      "Collecting jsonpointer>=1.9\n",
      "  Using cached jsonpointer-3.0.0-py2.py3-none-any.whl (7.6 kB)\n",
      "Collecting httpx<1,>=0.23.0\n",
      "  Using cached httpx-0.28.1-py3-none-any.whl (73 kB)\n",
      "Collecting requests-toolbelt>=1.0.0\n",
      "  Using cached requests_toolbelt-1.0.0-py2.py3-none-any.whl (54 kB)\n",
      "Collecting zstandard>=0.23.0\n",
      "  Downloading zstandard-0.24.0-cp39-cp39-macosx_11_0_arm64.whl (640 kB)\n",
      "\u001b[K     |████████████████████████████████| 640 kB 8.4 MB/s eta 0:00:01\n",
      "\u001b[?25hCollecting orjson>=3.9.14\n",
      "  Downloading orjson-3.11.3-cp39-cp39-macosx_10_15_x86_64.macosx_11_0_arm64.macosx_10_15_universal2.whl (238 kB)\n",
      "\u001b[K     |████████████████████████████████| 238 kB 5.1 MB/s eta 0:00:01\n",
      "\u001b[?25hCollecting httpcore==1.*\n",
      "  Using cached httpcore-1.0.9-py3-none-any.whl (78 kB)\n",
      "Requirement already satisfied: idna in /Users/anshulverma/Library/Python/3.9/lib/python/site-packages (from httpx<1,>=0.23.0->langsmith>=0.1.17->langchain) (3.10)\n",
      "Collecting anyio\n",
      "  Downloading anyio-4.10.0-py3-none-any.whl (107 kB)\n",
      "\u001b[K     |████████████████████████████████| 107 kB 6.1 MB/s eta 0:00:01\n",
      "\u001b[?25hRequirement already satisfied: certifi in /Users/anshulverma/Library/Python/3.9/lib/python/site-packages (from httpx<1,>=0.23.0->langsmith>=0.1.17->langchain) (2025.8.3)\n",
      "Collecting h11>=0.16\n",
      "  Using cached h11-0.16.0-py3-none-any.whl (37 kB)\n",
      "Collecting pydantic-core==2.33.2\n",
      "  Downloading pydantic_core-2.33.2-cp39-cp39-macosx_11_0_arm64.whl (1.9 MB)\n",
      "\u001b[K     |████████████████████████████████| 1.9 MB 2.0 MB/s eta 0:00:01\n",
      "\u001b[?25hCollecting annotated-types>=0.6.0\n",
      "  Using cached annotated_types-0.7.0-py3-none-any.whl (13 kB)\n",
      "Collecting typing-inspection>=0.4.0\n",
      "  Using cached typing_inspection-0.4.1-py3-none-any.whl (14 kB)\n",
      "Requirement already satisfied: charset_normalizer<4,>=2 in /Users/anshulverma/Library/Python/3.9/lib/python/site-packages (from requests<3,>=2->langchain) (3.4.3)\n",
      "Requirement already satisfied: urllib3<3,>=1.21.1 in /Users/anshulverma/Library/Python/3.9/lib/python/site-packages (from requests<3,>=2->langchain) (2.5.0)\n",
      "Requirement already satisfied: exceptiongroup>=1.0.2 in /Users/anshulverma/Library/Python/3.9/lib/python/site-packages (from anyio->httpx<1,>=0.23.0->langsmith>=0.1.17->langchain) (1.2.1)\n",
      "Collecting sniffio>=1.1\n",
      "  Using cached sniffio-1.3.1-py3-none-any.whl (10 kB)\n",
      "Installing collected packages: sniffio, h11, typing-inspection, pydantic-core, httpcore, anyio, annotated-types, zstandard, requests-toolbelt, pydantic, orjson, jsonpointer, httpx, tenacity, langsmith, jsonpatch, langchain-core, SQLAlchemy, langchain-text-splitters, async-timeout, langchain\n",
      "  Attempting uninstall: async-timeout\n",
      "    Found existing installation: async-timeout 5.0.1\n",
      "    Uninstalling async-timeout-5.0.1:\n",
      "      Successfully uninstalled async-timeout-5.0.1\n",
      "Successfully installed SQLAlchemy-2.0.43 annotated-types-0.7.0 anyio-4.10.0 async-timeout-4.0.3 h11-0.16.0 httpcore-1.0.9 httpx-0.28.1 jsonpatch-1.33 jsonpointer-3.0.0 langchain-0.3.27 langchain-core-0.3.76 langchain-text-splitters-0.3.11 langsmith-0.4.27 orjson-3.11.3 pydantic-2.11.8 pydantic-core-2.33.2 requests-toolbelt-1.0.0 sniffio-1.3.1 tenacity-9.1.2 typing-inspection-0.4.1 zstandard-0.24.0\n",
      "\u001b[33mWARNING: You are using pip version 21.2.4; however, version 25.2 is available.\n",
      "You should consider upgrading via the '/Library/Developer/CommandLineTools/usr/bin/python3 -m pip install --upgrade pip' command.\u001b[0m\n",
      "Note: you may need to restart the kernel to use updated packages.\n"
     ]
    }
   ],
   "source": [
    "pip install langchain\n"
   ]
  },
  {
   "cell_type": "code",
   "execution_count": 16,
   "metadata": {},
   "outputs": [
    {
     "name": "stdout",
     "output_type": "stream",
     "text": [
      "Defaulting to user installation because normal site-packages is not writeable\n",
      "Collecting langchain_community\n",
      "  Downloading langchain_community-0.3.29-py3-none-any.whl (2.5 MB)\n",
      "\u001b[K     |████████████████████████████████| 2.5 MB 1.1 MB/s eta 0:00:01\n",
      "\u001b[?25hCollecting dataclasses-json<0.7,>=0.6.7\n",
      "  Using cached dataclasses_json-0.6.7-py3-none-any.whl (28 kB)\n",
      "Requirement already satisfied: numpy>=1.26.2 in /Users/anshulverma/Library/Python/3.9/lib/python/site-packages (from langchain_community) (2.0.0)\n",
      "Collecting httpx-sse<1.0.0,>=0.4.0\n",
      "  Using cached httpx_sse-0.4.1-py3-none-any.whl (8.1 kB)\n",
      "Requirement already satisfied: tenacity!=8.4.0,<10,>=8.1.0 in /Users/anshulverma/Library/Python/3.9/lib/python/site-packages (from langchain_community) (9.1.2)\n",
      "Requirement already satisfied: PyYAML>=5.3 in /Users/anshulverma/Library/Python/3.9/lib/python/site-packages (from langchain_community) (6.0.2)\n",
      "Requirement already satisfied: langchain<2.0.0,>=0.3.27 in /Users/anshulverma/Library/Python/3.9/lib/python/site-packages (from langchain_community) (0.3.27)\n",
      "Requirement already satisfied: langsmith>=0.1.125 in /Users/anshulverma/Library/Python/3.9/lib/python/site-packages (from langchain_community) (0.4.27)\n",
      "Requirement already satisfied: requests<3,>=2.32.5 in /Users/anshulverma/Library/Python/3.9/lib/python/site-packages (from langchain_community) (2.32.5)\n",
      "Requirement already satisfied: SQLAlchemy<3,>=1.4 in /Users/anshulverma/Library/Python/3.9/lib/python/site-packages (from langchain_community) (2.0.43)\n",
      "Requirement already satisfied: aiohttp<4.0.0,>=3.8.3 in /Users/anshulverma/Library/Python/3.9/lib/python/site-packages (from langchain_community) (3.12.15)\n",
      "Collecting pydantic-settings<3.0.0,>=2.10.1\n",
      "  Using cached pydantic_settings-2.10.1-py3-none-any.whl (45 kB)\n",
      "Requirement already satisfied: langchain-core<2.0.0,>=0.3.75 in /Users/anshulverma/Library/Python/3.9/lib/python/site-packages (from langchain_community) (0.3.76)\n",
      "Requirement already satisfied: aiohappyeyeballs>=2.5.0 in /Users/anshulverma/Library/Python/3.9/lib/python/site-packages (from aiohttp<4.0.0,>=3.8.3->langchain_community) (2.6.1)\n",
      "Requirement already satisfied: frozenlist>=1.1.1 in /Users/anshulverma/Library/Python/3.9/lib/python/site-packages (from aiohttp<4.0.0,>=3.8.3->langchain_community) (1.7.0)\n",
      "Requirement already satisfied: multidict<7.0,>=4.5 in /Users/anshulverma/Library/Python/3.9/lib/python/site-packages (from aiohttp<4.0.0,>=3.8.3->langchain_community) (6.6.4)\n",
      "Requirement already satisfied: propcache>=0.2.0 in /Users/anshulverma/Library/Python/3.9/lib/python/site-packages (from aiohttp<4.0.0,>=3.8.3->langchain_community) (0.3.2)\n",
      "Requirement already satisfied: aiosignal>=1.4.0 in /Users/anshulverma/Library/Python/3.9/lib/python/site-packages (from aiohttp<4.0.0,>=3.8.3->langchain_community) (1.4.0)\n",
      "Requirement already satisfied: attrs>=17.3.0 in /Users/anshulverma/Library/Python/3.9/lib/python/site-packages (from aiohttp<4.0.0,>=3.8.3->langchain_community) (25.3.0)\n",
      "Requirement already satisfied: async-timeout<6.0,>=4.0 in /Users/anshulverma/Library/Python/3.9/lib/python/site-packages (from aiohttp<4.0.0,>=3.8.3->langchain_community) (4.0.3)\n",
      "Requirement already satisfied: yarl<2.0,>=1.17.0 in /Users/anshulverma/Library/Python/3.9/lib/python/site-packages (from aiohttp<4.0.0,>=3.8.3->langchain_community) (1.20.1)\n",
      "Requirement already satisfied: typing-extensions>=4.2 in /Users/anshulverma/Library/Python/3.9/lib/python/site-packages (from aiosignal>=1.4.0->aiohttp<4.0.0,>=3.8.3->langchain_community) (4.12.2)\n",
      "Collecting typing-inspect<1,>=0.4.0\n",
      "  Using cached typing_inspect-0.9.0-py3-none-any.whl (8.8 kB)\n",
      "Collecting marshmallow<4.0.0,>=3.18.0\n",
      "  Using cached marshmallow-3.26.1-py3-none-any.whl (50 kB)\n",
      "Requirement already satisfied: langchain-text-splitters<1.0.0,>=0.3.9 in /Users/anshulverma/Library/Python/3.9/lib/python/site-packages (from langchain<2.0.0,>=0.3.27->langchain_community) (0.3.11)\n",
      "Requirement already satisfied: pydantic<3.0.0,>=2.7.4 in /Users/anshulverma/Library/Python/3.9/lib/python/site-packages (from langchain<2.0.0,>=0.3.27->langchain_community) (2.11.8)\n",
      "Requirement already satisfied: packaging>=23.2 in /Users/anshulverma/Library/Python/3.9/lib/python/site-packages (from langchain-core<2.0.0,>=0.3.75->langchain_community) (24.1)\n",
      "Requirement already satisfied: jsonpatch<2.0,>=1.33 in /Users/anshulverma/Library/Python/3.9/lib/python/site-packages (from langchain-core<2.0.0,>=0.3.75->langchain_community) (1.33)\n",
      "Requirement already satisfied: jsonpointer>=1.9 in /Users/anshulverma/Library/Python/3.9/lib/python/site-packages (from jsonpatch<2.0,>=1.33->langchain-core<2.0.0,>=0.3.75->langchain_community) (3.0.0)\n",
      "Requirement already satisfied: httpx<1,>=0.23.0 in /Users/anshulverma/Library/Python/3.9/lib/python/site-packages (from langsmith>=0.1.125->langchain_community) (0.28.1)\n",
      "Requirement already satisfied: requests-toolbelt>=1.0.0 in /Users/anshulverma/Library/Python/3.9/lib/python/site-packages (from langsmith>=0.1.125->langchain_community) (1.0.0)\n",
      "Requirement already satisfied: orjson>=3.9.14 in /Users/anshulverma/Library/Python/3.9/lib/python/site-packages (from langsmith>=0.1.125->langchain_community) (3.11.3)\n",
      "Requirement already satisfied: zstandard>=0.23.0 in /Users/anshulverma/Library/Python/3.9/lib/python/site-packages (from langsmith>=0.1.125->langchain_community) (0.24.0)\n",
      "Requirement already satisfied: idna in /Users/anshulverma/Library/Python/3.9/lib/python/site-packages (from httpx<1,>=0.23.0->langsmith>=0.1.125->langchain_community) (3.10)\n",
      "Requirement already satisfied: httpcore==1.* in /Users/anshulverma/Library/Python/3.9/lib/python/site-packages (from httpx<1,>=0.23.0->langsmith>=0.1.125->langchain_community) (1.0.9)\n",
      "Requirement already satisfied: certifi in /Users/anshulverma/Library/Python/3.9/lib/python/site-packages (from httpx<1,>=0.23.0->langsmith>=0.1.125->langchain_community) (2025.8.3)\n",
      "Requirement already satisfied: anyio in /Users/anshulverma/Library/Python/3.9/lib/python/site-packages (from httpx<1,>=0.23.0->langsmith>=0.1.125->langchain_community) (4.10.0)\n",
      "Requirement already satisfied: h11>=0.16 in /Users/anshulverma/Library/Python/3.9/lib/python/site-packages (from httpcore==1.*->httpx<1,>=0.23.0->langsmith>=0.1.125->langchain_community) (0.16.0)\n",
      "Requirement already satisfied: annotated-types>=0.6.0 in /Users/anshulverma/Library/Python/3.9/lib/python/site-packages (from pydantic<3.0.0,>=2.7.4->langchain<2.0.0,>=0.3.27->langchain_community) (0.7.0)\n",
      "Requirement already satisfied: pydantic-core==2.33.2 in /Users/anshulverma/Library/Python/3.9/lib/python/site-packages (from pydantic<3.0.0,>=2.7.4->langchain<2.0.0,>=0.3.27->langchain_community) (2.33.2)\n",
      "Requirement already satisfied: typing-inspection>=0.4.0 in /Users/anshulverma/Library/Python/3.9/lib/python/site-packages (from pydantic<3.0.0,>=2.7.4->langchain<2.0.0,>=0.3.27->langchain_community) (0.4.1)\n",
      "Collecting python-dotenv>=0.21.0\n",
      "  Using cached python_dotenv-1.1.1-py3-none-any.whl (20 kB)\n",
      "Requirement already satisfied: urllib3<3,>=1.21.1 in /Users/anshulverma/Library/Python/3.9/lib/python/site-packages (from requests<3,>=2.32.5->langchain_community) (2.5.0)\n",
      "Requirement already satisfied: charset_normalizer<4,>=2 in /Users/anshulverma/Library/Python/3.9/lib/python/site-packages (from requests<3,>=2.32.5->langchain_community) (3.4.3)\n",
      "Collecting mypy-extensions>=0.3.0\n",
      "  Using cached mypy_extensions-1.1.0-py3-none-any.whl (5.0 kB)\n",
      "Requirement already satisfied: exceptiongroup>=1.0.2 in /Users/anshulverma/Library/Python/3.9/lib/python/site-packages (from anyio->httpx<1,>=0.23.0->langsmith>=0.1.125->langchain_community) (1.2.1)\n",
      "Requirement already satisfied: sniffio>=1.1 in /Users/anshulverma/Library/Python/3.9/lib/python/site-packages (from anyio->httpx<1,>=0.23.0->langsmith>=0.1.125->langchain_community) (1.3.1)\n",
      "Installing collected packages: mypy-extensions, typing-inspect, python-dotenv, marshmallow, pydantic-settings, httpx-sse, dataclasses-json, langchain-community\n",
      "Successfully installed dataclasses-json-0.6.7 httpx-sse-0.4.1 langchain-community-0.3.29 marshmallow-3.26.1 mypy-extensions-1.1.0 pydantic-settings-2.10.1 python-dotenv-1.1.1 typing-inspect-0.9.0\n",
      "\u001b[33mWARNING: You are using pip version 21.2.4; however, version 25.2 is available.\n",
      "You should consider upgrading via the '/Library/Developer/CommandLineTools/usr/bin/python3 -m pip install --upgrade pip' command.\u001b[0m\n",
      "Note: you may need to restart the kernel to use updated packages.\n"
     ]
    }
   ],
   "source": [
    "pip install langchain_community"
   ]
  },
  {
   "cell_type": "code",
   "execution_count": 20,
   "metadata": {},
   "outputs": [
    {
     "name": "stdout",
     "output_type": "stream",
     "text": [
      "Defaulting to user installation because normal site-packages is not writeable\n",
      "Collecting bs4\n",
      "  Downloading bs4-0.0.2-py2.py3-none-any.whl (1.2 kB)\n",
      "Collecting beautifulsoup4\n",
      "  Downloading beautifulsoup4-4.13.5-py3-none-any.whl (105 kB)\n",
      "\u001b[K     |████████████████████████████████| 105 kB 4.0 MB/s eta 0:00:01\n",
      "\u001b[?25hCollecting soupsieve>1.2\n",
      "  Downloading soupsieve-2.8-py3-none-any.whl (36 kB)\n",
      "Requirement already satisfied: typing-extensions>=4.0.0 in /Users/anshulverma/Library/Python/3.9/lib/python/site-packages (from beautifulsoup4->bs4) (4.12.2)\n",
      "Installing collected packages: soupsieve, beautifulsoup4, bs4\n",
      "Successfully installed beautifulsoup4-4.13.5 bs4-0.0.2 soupsieve-2.8\n",
      "\u001b[33mWARNING: You are using pip version 21.2.4; however, version 25.2 is available.\n",
      "You should consider upgrading via the '/Library/Developer/CommandLineTools/usr/bin/python3 -m pip install --upgrade pip' command.\u001b[0m\n",
      "Note: you may need to restart the kernel to use updated packages.\n"
     ]
    }
   ],
   "source": [
    "pip install bs4"
   ]
  },
  {
   "cell_type": "code",
   "execution_count": 7,
   "metadata": {},
   "outputs": [
    {
     "name": "stdout",
     "output_type": "stream",
     "text": [
      "Defaulting to user installation because normal site-packages is not writeable\n",
      "Collecting langchain-groq\n",
      "  Downloading langchain_groq-0.3.8-py3-none-any.whl (16 kB)\n",
      "Requirement already satisfied: langchain-core<1.0.0,>=0.3.75 in /Users/anshulverma/Library/Python/3.9/lib/python/site-packages (from langchain-groq) (0.3.76)\n",
      "Collecting groq<1,>=0.30.0\n",
      "  Downloading groq-0.31.1-py3-none-any.whl (134 kB)\n",
      "\u001b[K     |████████████████████████████████| 134 kB 2.3 MB/s eta 0:00:01\n",
      "\u001b[?25hRequirement already satisfied: typing-extensions<5,>=4.10 in /Users/anshulverma/Library/Python/3.9/lib/python/site-packages (from groq<1,>=0.30.0->langchain-groq) (4.12.2)\n",
      "Requirement already satisfied: pydantic<3,>=1.9.0 in /Users/anshulverma/Library/Python/3.9/lib/python/site-packages (from groq<1,>=0.30.0->langchain-groq) (2.11.8)\n",
      "Requirement already satisfied: sniffio in /Users/anshulverma/Library/Python/3.9/lib/python/site-packages (from groq<1,>=0.30.0->langchain-groq) (1.3.1)\n",
      "Requirement already satisfied: httpx<1,>=0.23.0 in /Users/anshulverma/Library/Python/3.9/lib/python/site-packages (from groq<1,>=0.30.0->langchain-groq) (0.28.1)\n",
      "Collecting distro<2,>=1.7.0\n",
      "  Using cached distro-1.9.0-py3-none-any.whl (20 kB)\n",
      "Requirement already satisfied: anyio<5,>=3.5.0 in /Users/anshulverma/Library/Python/3.9/lib/python/site-packages (from groq<1,>=0.30.0->langchain-groq) (4.10.0)\n",
      "Requirement already satisfied: idna>=2.8 in /Users/anshulverma/Library/Python/3.9/lib/python/site-packages (from anyio<5,>=3.5.0->groq<1,>=0.30.0->langchain-groq) (3.10)\n",
      "Requirement already satisfied: exceptiongroup>=1.0.2 in /Users/anshulverma/Library/Python/3.9/lib/python/site-packages (from anyio<5,>=3.5.0->groq<1,>=0.30.0->langchain-groq) (1.2.1)\n",
      "Requirement already satisfied: certifi in /Users/anshulverma/Library/Python/3.9/lib/python/site-packages (from httpx<1,>=0.23.0->groq<1,>=0.30.0->langchain-groq) (2025.8.3)\n",
      "Requirement already satisfied: httpcore==1.* in /Users/anshulverma/Library/Python/3.9/lib/python/site-packages (from httpx<1,>=0.23.0->groq<1,>=0.30.0->langchain-groq) (1.0.9)\n",
      "Requirement already satisfied: h11>=0.16 in /Users/anshulverma/Library/Python/3.9/lib/python/site-packages (from httpcore==1.*->httpx<1,>=0.23.0->groq<1,>=0.30.0->langchain-groq) (0.16.0)\n",
      "Requirement already satisfied: PyYAML>=5.3 in /Users/anshulverma/Library/Python/3.9/lib/python/site-packages (from langchain-core<1.0.0,>=0.3.75->langchain-groq) (6.0.2)\n",
      "Requirement already satisfied: langsmith>=0.3.45 in /Users/anshulverma/Library/Python/3.9/lib/python/site-packages (from langchain-core<1.0.0,>=0.3.75->langchain-groq) (0.4.27)\n",
      "Requirement already satisfied: tenacity!=8.4.0,<10.0.0,>=8.1.0 in /Users/anshulverma/Library/Python/3.9/lib/python/site-packages (from langchain-core<1.0.0,>=0.3.75->langchain-groq) (9.1.2)\n",
      "Requirement already satisfied: packaging>=23.2 in /Users/anshulverma/Library/Python/3.9/lib/python/site-packages (from langchain-core<1.0.0,>=0.3.75->langchain-groq) (24.1)\n",
      "Requirement already satisfied: jsonpatch<2.0,>=1.33 in /Users/anshulverma/Library/Python/3.9/lib/python/site-packages (from langchain-core<1.0.0,>=0.3.75->langchain-groq) (1.33)\n",
      "Requirement already satisfied: jsonpointer>=1.9 in /Users/anshulverma/Library/Python/3.9/lib/python/site-packages (from jsonpatch<2.0,>=1.33->langchain-core<1.0.0,>=0.3.75->langchain-groq) (3.0.0)\n",
      "Requirement already satisfied: requests>=2.0.0 in /Users/anshulverma/Library/Python/3.9/lib/python/site-packages (from langsmith>=0.3.45->langchain-core<1.0.0,>=0.3.75->langchain-groq) (2.32.5)\n",
      "Requirement already satisfied: orjson>=3.9.14 in /Users/anshulverma/Library/Python/3.9/lib/python/site-packages (from langsmith>=0.3.45->langchain-core<1.0.0,>=0.3.75->langchain-groq) (3.11.3)\n",
      "Requirement already satisfied: requests-toolbelt>=1.0.0 in /Users/anshulverma/Library/Python/3.9/lib/python/site-packages (from langsmith>=0.3.45->langchain-core<1.0.0,>=0.3.75->langchain-groq) (1.0.0)\n",
      "Requirement already satisfied: zstandard>=0.23.0 in /Users/anshulverma/Library/Python/3.9/lib/python/site-packages (from langsmith>=0.3.45->langchain-core<1.0.0,>=0.3.75->langchain-groq) (0.24.0)\n",
      "Requirement already satisfied: annotated-types>=0.6.0 in /Users/anshulverma/Library/Python/3.9/lib/python/site-packages (from pydantic<3,>=1.9.0->groq<1,>=0.30.0->langchain-groq) (0.7.0)\n",
      "Requirement already satisfied: pydantic-core==2.33.2 in /Users/anshulverma/Library/Python/3.9/lib/python/site-packages (from pydantic<3,>=1.9.0->groq<1,>=0.30.0->langchain-groq) (2.33.2)\n",
      "Requirement already satisfied: typing-inspection>=0.4.0 in /Users/anshulverma/Library/Python/3.9/lib/python/site-packages (from pydantic<3,>=1.9.0->groq<1,>=0.30.0->langchain-groq) (0.4.1)\n",
      "Requirement already satisfied: charset_normalizer<4,>=2 in /Users/anshulverma/Library/Python/3.9/lib/python/site-packages (from requests>=2.0.0->langsmith>=0.3.45->langchain-core<1.0.0,>=0.3.75->langchain-groq) (3.4.3)\n",
      "Requirement already satisfied: urllib3<3,>=1.21.1 in /Users/anshulverma/Library/Python/3.9/lib/python/site-packages (from requests>=2.0.0->langsmith>=0.3.45->langchain-core<1.0.0,>=0.3.75->langchain-groq) (2.5.0)\n",
      "Installing collected packages: distro, groq, langchain-groq\n",
      "Successfully installed distro-1.9.0 groq-0.31.1 langchain-groq-0.3.8\n",
      "\u001b[33mWARNING: You are using pip version 21.2.4; however, version 25.2 is available.\n",
      "You should consider upgrading via the '/Library/Developer/CommandLineTools/usr/bin/python3 -m pip install --upgrade pip' command.\u001b[0m\n",
      "Note: you may need to restart the kernel to use updated packages.\n"
     ]
    }
   ],
   "source": [
    "pip install langchain-groq"
   ]
  },
  {
   "cell_type": "code",
   "execution_count": 9,
   "metadata": {},
   "outputs": [
    {
     "name": "stderr",
     "output_type": "stream",
     "text": [
      "/Users/anshulverma/Library/Python/3.9/lib/python/site-packages/urllib3/__init__.py:35: NotOpenSSLWarning: urllib3 v2 only supports OpenSSL 1.1.1+, currently the 'ssl' module is compiled with 'LibreSSL 2.8.3'. See: https://github.com/urllib3/urllib3/issues/3020\n",
      "  warnings.warn(\n",
      "/Users/anshulverma/Library/Python/3.9/lib/python/site-packages/tqdm/auto.py:21: TqdmWarning: IProgress not found. Please update jupyter and ipywidgets. See https://ipywidgets.readthedocs.io/en/stable/user_install.html\n",
      "  from .autonotebook import tqdm as notebook_tqdm\n"
     ]
    }
   ],
   "source": [
    "from langchain_groq import ChatGroq"
   ]
  },
  {
   "cell_type": "code",
   "execution_count": 12,
   "metadata": {},
   "outputs": [],
   "source": [
    "llm=ChatGroq(temperature=0, \n",
    "groq_api_key=\"YOUR_API_KEY\",\n",
    "model_name=\"llama-3.3-70b-versatile\")"
   ]
  },
  {
   "cell_type": "code",
   "execution_count": 15,
   "metadata": {},
   "outputs": [
    {
     "name": "stdout",
     "output_type": "stream",
     "text": [
      "content=\"As my knowledge cutoff is March 1, 2023, I'll provide you with some of the significant news and developments about India up to that date. Please note that the information may not be entirely up-to-date, and I recommend checking with reliable news sources for the latest updates.\\n\\nSome of the key news and developments about India as of my knowledge cutoff include:\\n\\n1. **Economic Growth**: India's economy has been growing steadily, with the country expected to become the third-largest economy by 2030, according to a report by the International Monetary Fund (IMF).\\n2. **Digital India**: The Indian government has been pushing for digitalization, with initiatives like Digital India, which aims to make government services and information available online. The country has also seen significant growth in the digital payments sector.\\n3. **Infrastructure Development**: India has been investing heavily in infrastructure development, including the construction of new airports, seaports, and highways. The government has also launched initiatives like the Bharatmala Pariyojana to improve the country's road network.\\n4. **Space Exploration**: India's space agency, the Indian Space Research Organisation (ISRO), has been making significant strides in space exploration. In 2022, ISRO launched the Chandrayaan-3 mission, which successfully landed a rover on the Moon's south pole.\\n5. **Covid-19 Recovery**: India has been recovering from the COVID-19 pandemic, with the country reporting a significant decline in cases and fatalities. The government has also been working to boost the country's healthcare infrastructure.\\n6. **Geopolitics**: India has been playing a key role in regional and global geopolitics, with the country participating in initiatives like the Quadrilateral Security Dialogue (Quad) and the Shanghai Cooperation Organisation (SCO).\\n7. **Environmental Concerns**: India has been facing environmental challenges, including air and water pollution, deforestation, and climate change. The government has been working to address these issues, with initiatives like the National Clean Air Programme and the Jal Jeevan Mission.\\n8. **Social and Cultural Developments**: India has been witnessing significant social and cultural changes, with the country seeing a rise in women's empowerment, LGBTQ+ rights, and social justice movements.\\n\\nSome of the notable events and news from India as of my knowledge cutoff include:\\n\\n* The Indian government's decision to ban single-use plastics\\n* The launch of the 5G network in India\\n* The country's first-ever human spaceflight mission, Gaganyaan\\n* The Indian cricket team's victory in the ICC Cricket World Cup\\n* The country's preparations for the 2024 general elections\\n\\nPlease note that these are just a few examples of the many news and developments about India, and I recommend checking with reliable news sources for the latest updates and more comprehensive information.\" additional_kwargs={} response_metadata={'token_usage': {'completion_tokens': 575, 'prompt_tokens': 43, 'total_tokens': 618, 'completion_time': 1.391623938, 'prompt_time': 0.010981077, 'queue_time': 0.051190873, 'total_time': 1.402605015}, 'model_name': 'llama-3.3-70b-versatile', 'system_fingerprint': 'fp_2ddfbb0da0', 'service_tier': 'on_demand', 'finish_reason': 'stop', 'logprobs': None} id='run--088026bc-3452-4625-af22-735a05568c8f-0' usage_metadata={'input_tokens': 43, 'output_tokens': 575, 'total_tokens': 618}\n"
     ]
    }
   ],
   "source": [
    "print(llm.invoke(\"What is the latest news about india?\"))"
   ]
  },
  {
   "cell_type": "code",
   "execution_count": 32,
   "metadata": {},
   "outputs": [
    {
     "name": "stdout",
     "output_type": "stream",
     "text": [
      "Sr. Solution Architect, Startups - Job ID: 3082013 | Amazon.jobs\n",
      "Skip to main contentHomeTeamsLocationsJob categoriesMy careerMy applicationsMy profileAccount securitySettingsSign outResourcesDisability accommodationsBenefitsInclusive experiencesInterview tipsLeadership principlesWorking at AmazonFAQ×Sr. Solution Architect, StartupsJob ID: 3082013 | AWS India - HaryanaApply nowDESCRIPTIONSales, Marketing and Global Services (SMGS)AWS Sales, Marketing, and Global Services (SMGS) is responsible for driving revenue, adoption, and growth from the largest and fastest growing small- and mid-market accounts to enterprise-level customers including public sector.Do you like startups? Are you interested in Cloud Computing & Generative AI? Yes? We have a role you might find interesting.Startups are the large enterprises of the future. These young companies are founded by ambitious people who have a desire to build something meaningful and to challenge the status quo. To address underserved customers, or to challenge incumbents. They usually operate in an environment of scarcity: whether that’s capital, engineering resource, or experience. This is where you come in.The Startup Solutions Architecture team is dedicated to working with these early stage startup companies as they build their businesses. We’re here to make sure that they can deploy the best, most scalable, and most secure architectures possible – and that they spend as little time and money as possible doing so.We are looking for technical builders who love the idea of working with early stage startups to help them as they grow. In this role, you’ll work directly with a variety of interesting customers and help them make the best (and sometimes the most pragmatic) technical decisions along the way. You’ll have a chance to build enduring relationships with these companies and establish yourself as a trusted advisor.As well as spending time working directly with customers, you’ll also get plenty of time to “sharpen the saw” and keep your skills fresh. We have more than 175 services across a range of different categories and it’s important that we can help startups take advantages of the right ones. You’ll also play an important role as an advocate with our product teams to make sure we are building the right products for the startups you work with. And for the customers you don’t get to work with on a 1:1 basis you’ll get the chance to share your knowledge more broadly by working on technical content and presenting at events.A day in the lifeYou’re surrounded by innovation. You’re empowered with a lot of ownership. Your growth is accelerated. The work is challenging. You have a voice here and are encouraged to use it. Your experience and career development is in your hands. We live our leadership principles every day. At Amazon, it's always \"Day 1\".Diverse ExperiencesAmazon values diverse experiences. Even if you do not meet all of the preferred qualifications and skills listed in the job description, we encourage candidates to apply. If your career is just starting, hasn’t followed a traditional path, or includes alternative experiences, don’t let it stop you from applying.Why AWSAmazon Web Services (AWS) is the world’s most comprehensive and broadly adopted cloud platform. We pioneered cloud computing and never stopped innovating — that’s why customers from the most successful startups to Global 500 companies trust our robust suite of products and services to power their businesses.Work/Life BalanceWe value work-life harmony. Achieving success at work should never come at the expense of sacrifices at home, which is why we strive for flexibility as part of our working culture. When we feel supported in the workplace and at home, there’s nothing we can’t achieve in the cloud.Inclusive Team CultureHere at AWS, it’s in our nature to learn and be curious. Our employee-led affinity groups foster a culture of inclusion that empower us to be proud of our differences. Ongoing events and learning experiences, including our Conversations on Race and Ethnicity (CORE) and AmazeCon (gender diversity) conferences, inspire us to never stop embracing our uniqueness.Mentorship and Career GrowthWe’re continuously raising our performance bar as we strive to become Earth’s Best Employer. That’s why you’ll find endless knowledge-sharing, mentorship and other career-advancing resources here to help you develop into a better-rounded professional. BASIC QUALIFICATIONS- 8+ years of specific technology domain areas (e.g. software development, cloud computing, systems engineering, infrastructure, security, networking, data & analytics) experience- 3+ years of design, implementation, or consulting in applications and infrastructures experience- 12+ years of IT development or implementation/consulting in the software or Internet industries experiencePREFERRED QUALIFICATIONS- 5+ years of infrastructure architecture, database architecture and networking experience- Knowledge of AWS services, market segments, customer base and industry verticals- Experience working with end user or developer communitiesOur inclusive culture empowers Amazonians to deliver the best results for our customers. If you have a disability and need a workplace accommodation or adjustment during the application and hiring process, including support for the interview or onboarding process, please visit https://amazon.jobs/content/en/how-we-hire/accommodations for more information. If the country/region you’re applying in isn’t listed, please contact your Recruiting Partner.Job detailsIND, HR, GurugramSolutions ArchitectShare this jobJOIN US ONFind CareersJob CategoriesTeamsLocationsUS and EU Military recruitingWarehouse and Hourly JobsWorking At AmazonCultureBenefitsAmazon NewsletterInclusive experiencesOur leadership principlesHelpFAQInterview tipsReview application statusDisability accommodationsLegal disclosures and noticesAmazon is an equal opportunity employer and does not discriminate on the basis of protected veteran status, disability, or other legally protected status.Privacy and DataImpressum© 1996-2025, Amazon.com, Inc. or its affiliates\n"
     ]
    }
   ],
   "source": [
    "from langchain_community.document_loaders import WebBaseLoader\n",
    "\n",
    "loader = WebBaseLoader(\"https://www.amazon.jobs/en/jobs/3082013/sr-solution-architect-startups\")\n",
    "page_data=loader.load().pop().page_content\n",
    "print(page_data)"
   ]
  },
  {
   "cell_type": "code",
   "execution_count": 33,
   "metadata": {},
   "outputs": [],
   "source": [
    "from langchain_core.prompts import PromptTemplate\n",
    "\n",
    "prompt_extract= PromptTemplate.from_template(\n",
    "    \"\"\"\n",
    "    ### SCRAPPED TEXT FROM WEBSITE:\n",
    "    {page_data}\n",
    "    ### INSTRUCTION:\n",
    "    The scrapped text is from a job posting website. \n",
    "    Your job is to extract the job postings and return them in JSON format containing the\n",
    "    following keys: 'role','experience','skills' and 'description'\n",
    "    Only return the valid JSON.\n",
    "    ### VALID JSON (NO PREAMBLE)\n",
    "    \"\"\"\n",
    ")"
   ]
  },
  {
   "cell_type": "code",
   "execution_count": 34,
   "metadata": {},
   "outputs": [
    {
     "data": {
      "text/plain": [
       "str"
      ]
     },
     "execution_count": 34,
     "metadata": {},
     "output_type": "execute_result"
    }
   ],
   "source": [
    "chain_extract =prompt_extract | llm\n",
    "res= chain_extract.invoke(input={'page_data':page_data})\n",
    "type(res.content)"
   ]
  },
  {
   "cell_type": "code",
   "execution_count": 35,
   "metadata": {},
   "outputs": [
    {
     "data": {
      "text/plain": [
       "{'role': 'Sr. Solution Architect, Startups',\n",
       " 'experience': {'years': '8+ years',\n",
       "  'areas': ['software development',\n",
       "   'cloud computing',\n",
       "   'systems engineering',\n",
       "   'infrastructure',\n",
       "   'security',\n",
       "   'networking',\n",
       "   'data & analytics'],\n",
       "  'design': '3+ years',\n",
       "  'consulting': '12+ years'},\n",
       " 'skills': ['infrastructure architecture',\n",
       "  'database architecture',\n",
       "  'networking',\n",
       "  'AWS services',\n",
       "  'market segments',\n",
       "  'customer base',\n",
       "  'industry verticals'],\n",
       " 'description': 'We are looking for technical builders who love the idea of working with early stage startups to help them as they grow. In this role, you’ll work directly with a variety of interesting customers and help them make the best (and sometimes the most pragmatic) technical decisions along the way.'}"
      ]
     },
     "execution_count": 35,
     "metadata": {},
     "output_type": "execute_result"
    }
   ],
   "source": [
    "from langchain_core.output_parsers import JsonOutputParser\n",
    "\n",
    "json_parser = JsonOutputParser()\n",
    "json_res= json_parser.parse(res.content)\n",
    "json_res"
   ]
  },
  {
   "cell_type": "code",
   "execution_count": 50,
   "metadata": {},
   "outputs": [],
   "source": [
    "prompt_email= PromptTemplate.from_template(\n",
    "    \"\"\"\n",
    "    ### JOB DESCRIPTION:\n",
    "    {job_description}\n",
    "    \n",
    "    ### INSTRUCTION:\n",
    "    Write a professional email to the hiring manager expressing interest in the job role\n",
    "    and highlighting relevant skills and experience. Keep the email concise and to the point\n",
    "    Also mention the company name in the email.\n",
    "        \"\"\"\n",
    "\n",
    ")"
   ]
  },
  {
   "cell_type": "code",
   "execution_count": 51,
   "metadata": {},
   "outputs": [
    {
     "name": "stdout",
     "output_type": "stream",
     "text": [
      "Subject: Application for Technical Builder Role at [Company Name]\n",
      "\n",
      "Dear Hiring Manager,\n",
      "\n",
      "I am writing to express my interest in the Technical Builder role at [Company Name]. As a seasoned technical professional with a passion for working with early-stage startups, I believe I would be an excellent fit for this position.\n",
      "\n",
      "With [number of years] years of experience in technical building and a proven track record of helping startups make informed technical decisions, I am confident in my ability to make a valuable contribution to your team. My expertise in [specific skills or areas of expertise] has allowed me to drive growth and success in my previous roles, and I am excited about the prospect of bringing my skills and experience to [Company Name].\n",
      "\n",
      "I am particularly drawn to [Company Name] because of its commitment to supporting the growth and development of early-stage startups. I am impressed by the company's mission and values, and I am eager to be a part of a team that shares my passion for innovation and collaboration.\n",
      "\n",
      "Thank you for considering my application. I would welcome the opportunity to discuss my qualifications further and learn more about the role.\n",
      "\n",
      "Best regards,\n",
      "[Your Name]\n"
     ]
    }
   ],
   "source": [
    "chain_email =prompt_email | llm\n",
    "res= chain_email.invoke({'job_description':json_res['description']})\n",
    "print(res.content)"
   ]
  },
  {
   "cell_type": "code",
   "execution_count": null,
   "metadata": {},
   "outputs": [],
   "source": []
  },
  {
   "cell_type": "code",
   "execution_count": null,
   "metadata": {},
   "outputs": [],
   "source": []
  }
 ],
 "metadata": {
  "kernelspec": {
   "display_name": "Python 3",
   "language": "python",
   "name": "python3"
  },
  "language_info": {
   "codemirror_mode": {
    "name": "ipython",
    "version": 3
   },
   "file_extension": ".py",
   "mimetype": "text/x-python",
   "name": "python",
   "nbconvert_exporter": "python",
   "pygments_lexer": "ipython3",
   "version": "3.9.6"
  }
 },
 "nbformat": 4,
 "nbformat_minor": 2
}
